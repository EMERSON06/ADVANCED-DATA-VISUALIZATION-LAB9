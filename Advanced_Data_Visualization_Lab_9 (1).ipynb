{
  "nbformat": 4,
  "nbformat_minor": 0,
  "metadata": {
    "colab": {
      "provenance": []
    },
    "kernelspec": {
      "name": "python3",
      "display_name": "Python 3"
    },
    "language_info": {
      "name": "python"
    }
  },
  "cells": [
    {
      "cell_type": "code",
      "execution_count": 2,
      "metadata": {
        "colab": {
          "base_uri": "https://localhost:8080/"
        },
        "id": "HjTiHkGmkE0G",
        "outputId": "4465219a-2775-48a7-f6be-4465ca23ba67"
      },
      "outputs": [
        {
          "output_type": "stream",
          "name": "stdout",
          "text": [
            "[3, 7, 4, 2]\n",
            "[3, 7, 4, 2]\n",
            "[3, 7]\n",
            "[3]\n",
            "[3, 7, 4]\n",
            "[3, 7, 4, 2]\n",
            "[3, 'fish', 4, 2]\n",
            "[70, 30, 20, 90]\n",
            "[50, 70, 30, 20, 90, 10, 50]\n"
          ]
        }
      ],
      "source": [
        "z=[3,7,4,2]\n",
        "\n",
        "print(z)\n",
        "\n",
        "print(z[::])\n",
        "\n",
        "z[0]\n",
        "\n",
        "z[-1]\n",
        "\n",
        "print(z [0:2])\n",
        "print(z [0:1])\n",
        "print(z [0:3])\n",
        "print(z [0:4])\n",
        "\n",
        "z [:3]\n",
        "\n",
        "z [1:]\n",
        "\n",
        "z [1] = \"fish\"\n",
        "print(z)\n",
        "\n",
        "heterogenousElements = [3, True, 'Michael', 2.0]\n",
        "\n",
        "heterogenousElements\n",
        "\n",
        "z = [4, 1, 5, 4, 10, 4]\n",
        "z.index(4)\n",
        "\n",
        "z = [4, 1, 5, 4, 10, 4]\n",
        "z.index(4, 2)\n",
        "\n",
        "SampleList = [50, 70, 30, 20, 90, 10, 50]\n",
        "\n",
        "print(SampleList[1:5])\n",
        "\n",
        "Lst = [50, 70, 30, 20, 90, 10, 50]\n",
        " \n",
        "print(Lst[-7::1])\n"
      ]
    }
  ]
}